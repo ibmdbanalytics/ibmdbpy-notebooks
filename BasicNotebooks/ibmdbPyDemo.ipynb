{
 "cells": [
  {
   "cell_type": "code",
   "execution_count": null,
   "metadata": {
    "collapsed": false
   },
   "outputs": [],
   "source": [
    "#!pip install --user future\n",
    "#!pip install --user lazy\n",
    "#!pip install --user jaydebeapi\n",
    "#!pip uninstall --yes ibmdbpy\n",
    "#!pip install ibmdbpy --user --ignore-installed --no-deps\n",
    "#!wget -O $HOME/.local/lib/python2.7/site-packages/ibmdbpy/db2jcc4.jar https://ibm.box.com/shared/static/lmhzyeslp1rqns04ue8dnhz2x7fb6nkc.zip"
   ]
  },
  {
   "cell_type": "markdown",
   "metadata": {
    "slideshow": {
     "slide_type": "slide"
    }
   },
   "source": [
    "\n",
    "## ibmdbpy\n"
   ]
  },
  {
   "cell_type": "markdown",
   "metadata": {
    "slideshow": {
     "slide_type": "-"
    }
   },
   "source": [
    "* Provides a Python interface for dashDB\n",
    "    * imitates Pandas and Scikit-learn syntax/methods\n",
    "    * translates transparently Python into SQL"
   ]
  },
  {
   "cell_type": "markdown",
   "metadata": {
    "slideshow": {
     "slide_type": "subslide"
    }
   },
   "source": [
    "<div align = center>\n",
    "<img width = 680 src=\"https://ibm.box.com/shared/static/qkyoasm80bk8z7if8xusvwwfz87fmxjx.png\">\n",
    "</div> "
   ]
  },
  {
   "cell_type": "markdown",
   "metadata": {
    "slideshow": {
     "slide_type": "slide"
    }
   },
   "source": [
    "\n",
    "\n",
    "## Demonstration\n",
    "\n"
   ]
  },
  {
   "cell_type": "markdown",
   "metadata": {
    "slideshow": {
     "slide_type": "subslide"
    }
   },
   "source": [
    "## Connect to dashDB"
   ]
  },
  {
   "cell_type": "code",
   "execution_count": null,
   "metadata": {
    "collapsed": false
   },
   "outputs": [],
   "source": [
    "from ibmdbpy import IdaDataBase\n",
    "idadb = IdaDataBase('jdbc:db2://<dashdb server name>:50000/BLUDB:user=<dashdb user>;password=<dashdb pw>') "
   ]
  },
  {
   "cell_type": "code",
   "execution_count": null,
   "metadata": {
    "collapsed": false
   },
   "outputs": [],
   "source": [
    "#from ibmdbpy.sampledata import iris\n",
    "#idadf = idadb.as_idadataframe(iris, \"IRIS\")\n",
    "#idadb.add_column_id(idadf, destructive = True)"
   ]
  },
  {
   "cell_type": "markdown",
   "metadata": {},
   "source": [
    "* **IdaDataBase** objects are an abstraction layer for the connection\n",
    "    - Database administration\n",
    "        * Lookup, Download, Upload\n",
    "        \n",
    "       \n",
    "* Cross-plateform connection, with **ODBC** or **JDBC**\n",
    "* ibmdbpy supports python **2.7** up to **3.4**"
   ]
  },
  {
   "cell_type": "markdown",
   "metadata": {
    "slideshow": {
     "slide_type": "subslide"
    }
   },
   "source": [
    "## Data analytics"
   ]
  },
  {
   "cell_type": "code",
   "execution_count": null,
   "metadata": {
    "collapsed": false
   },
   "outputs": [],
   "source": [
    "#from ibmdbpy.utils import set_verbose\n",
    "#set_verbose(True)"
   ]
  },
  {
   "cell_type": "code",
   "execution_count": null,
   "metadata": {
    "collapsed": false
   },
   "outputs": [],
   "source": [
    "from ibmdbpy import IdaDataFrame\n",
    "idadf = IdaDataFrame(idadb, \"IRIS\", indexer = \"ID\")"
   ]
  },
  {
   "cell_type": "markdown",
   "metadata": {
    "slideshow": {
     "slide_type": "-"
    }
   },
   "source": [
    "- Non-destructive data manipulation\n",
    "- Statistics, Filtering, Selection, Projection\n",
    "- Feature Engineering\n",
    "- Pandas-like"
   ]
  },
  {
   "cell_type": "markdown",
   "metadata": {
    "slideshow": {
     "slide_type": "subslide"
    }
   },
   "source": [
    "#### Machine learning\n",
    "\n",
    "* Submodule **ibmdbpy.learn**\n",
    "    * Currently available: Kmeans, Naive Bayes, Association Rules\n",
    "    * Scikit.learn-like"
   ]
  },
  {
   "cell_type": "markdown",
   "metadata": {
    "slideshow": {
     "slide_type": "subslide"
    }
   },
   "source": [
    "### Simple statistics"
   ]
  },
  {
   "cell_type": "code",
   "execution_count": null,
   "metadata": {
    "collapsed": false,
    "scrolled": false,
    "slideshow": {
     "slide_type": "-"
    }
   },
   "outputs": [],
   "source": [
    "idadf.describe()   "
   ]
  },
  {
   "cell_type": "code",
   "execution_count": null,
   "metadata": {
    "collapsed": false,
    "slideshow": {
     "slide_type": "subslide"
    }
   },
   "outputs": [],
   "source": [
    "idadf.corr() "
   ]
  },
  {
   "cell_type": "code",
   "execution_count": null,
   "metadata": {
    "collapsed": false,
    "slideshow": {
     "slide_type": "subslide"
    }
   },
   "outputs": [],
   "source": [
    "idadf = idadf[[\"ID\",\"sepal_length\", \"sepal_width\"]]\n",
    "idadf['new'] = idadf['sepal_width'] + idadf['sepal_length'].mean()\n",
    "idadf.head()"
   ]
  },
  {
   "cell_type": "markdown",
   "metadata": {
    "slideshow": {
     "slide_type": "subslide"
    }
   },
   "source": [
    "### Kmeans"
   ]
  },
  {
   "cell_type": "markdown",
   "metadata": {},
   "source": [
    "<div align = left>\n",
    "<img width = 300 src=\"https://ibm.box.com/shared/static/21v5m11d73d7vrw4ff8vas7xwfzn6dc8.png\">\n",
    "</div> "
   ]
  },
  {
   "cell_type": "code",
   "execution_count": null,
   "metadata": {
    "collapsed": true
   },
   "outputs": [],
   "source": [
    "from ibmdbpy.learn import KMeans\n",
    "kmeans = KMeans(3) # clustering with 3 clusters"
   ]
  },
  {
   "cell_type": "code",
   "execution_count": null,
   "metadata": {
    "collapsed": false
   },
   "outputs": [],
   "source": [
    "idadf = IdaDataFrame(idadb, \"IRIS\", indexer = \"ID\") "
   ]
  },
  {
   "cell_type": "code",
   "execution_count": null,
   "metadata": {
    "collapsed": false,
    "slideshow": {
     "slide_type": "subslide"
    }
   },
   "outputs": [],
   "source": [
    "kmeans.fit_predict(idadf).head()   "
   ]
  },
  {
   "cell_type": "code",
   "execution_count": null,
   "metadata": {
    "collapsed": false,
    "slideshow": {
     "slide_type": "subslide"
    }
   },
   "outputs": [],
   "source": [
    "kmeans.describe() "
   ]
  },
  {
   "cell_type": "markdown",
   "metadata": {
    "slideshow": {
     "slide_type": "subslide"
    }
   },
   "source": [
    "## Deployment\n",
    "\n",
    "- Distribution via PyPI\n",
    "    * Source, documentation\n",
    "        * https://pypi.python.org/pypi/ibmdbpy\n",
    "        + http://pythonhosted.org/ibmdby\n",
    "\n",
    "```\n",
    "    pip install ibmdbpy\n",
    "```\n",
    "- Open Source collaboration on GitHub\n",
    "    - License : BSD\n",
    "    "
   ]
  },
  {
   "cell_type": "markdown",
   "metadata": {
    "slideshow": {
     "slide_type": "slide"
    }
   },
   "source": [
    "### Conclusion\n",
    "\n",
    "- **ibmdbpy**\n",
    "    * Enables data analytics remotely from simple hardware\n",
    "        * no real computational limit\n",
    "    * Solves the data extraction problem\n",
    "        * data freshness\n",
    "        * real-time analytics\n",
    "    * Intuitive in-database analytics with SQL-pushdowns\n",
    "        * user-friendly Pandas-like syntax\n",
    "        * great performance on \"big enough\" datasets"
   ]
  },
  {
   "cell_type": "markdown",
   "metadata": {},
   "source": [
    "<div align = right>\n",
    "<img width = 250 src=\"https://ibm.box.com/shared/static/lchkt3jcflvuazyrvhvzppkgstdh4hr9.png\">\n",
    "</div> "
   ]
  }
 ],
 "metadata": {
  "celltoolbar": "Slideshow",
  "kernelspec": {
   "display_name": "Python 3",
   "language": "python",
   "name": "python3"
  },
  "language_info": {
   "codemirror_mode": {
    "name": "ipython",
    "version": 3
   },
   "file_extension": ".py",
   "mimetype": "text/x-python",
   "name": "python",
   "nbconvert_exporter": "python",
   "pygments_lexer": "ipython3",
   "version": "3.4.3"
  }
 },
 "nbformat": 4,
 "nbformat_minor": 0
}
