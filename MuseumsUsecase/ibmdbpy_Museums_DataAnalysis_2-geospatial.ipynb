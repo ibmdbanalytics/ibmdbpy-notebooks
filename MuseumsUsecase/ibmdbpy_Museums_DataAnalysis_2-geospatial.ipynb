{
 "cells": [
  {
   "cell_type": "markdown",
   "metadata": {},
   "source": [
    "# Data analysis with ibmdbpy and Db2 Warehouse - Part 2: Recommendation\n",
    "\n",
    "This notebook shows you how to use ibmdbpy to handle geospatial data, with a point of interest recommandation use case.\n",
    "___\n",
    "\n",
    "### Accelerate Python analytics with in-database processing by using ibmdbpy and IBM Db2 Warehouse\n",
    "\n",
    "The ibmdbpy project provides access to in-database algorithms in IBM Db2 Warehouse through a Python interface for data manipulation. It accelerates Python analytics by seamlessly pushing operations written in Python into the underlying database for execution, thereby benefitting from in-database performance-enhancing features, such as columnar storage and parallel processing. For more details about ibmdbpy, please refer to the [documentation](https://pythonhosted.org/ibmdbpy/index.html) and to the dedicated [Git repository](https://github.com/ibmdbanalytics/ibmdbpy/tree/master/ibmdbpy). This notebook provides you with an overview of ibmdbpy functionalities through a tourism use case. \n",
    "\n",
    "\n",
    "__About this notebook__\n",
    "\n",
    "In the \"Museums\" notebook series, you get deeper insights about how to perform in-database analytics with ibmdbpy.\n",
    "Our use case: tourism in the United States. Imagine you have designed a tourism app and want to recommand activities or places to users according to their location, taste and some geographic constraints. Ibmdbpy spatial extension enables you to efficiently query your database for real-time recommandation. There are two notebooks: \n",
    "\n",
    "1. Open and preprocess data: [Preprocessing notebook](./ibmdbpy_Museums_DataAnalysis_1-preprocessing.ipynb)\n",
    "2. Recommend a Point of Interest in the US: here you are!\n",
    "\n",
    "\n",
    "__Prerequisites__\n",
    "* Db2 account: see [IBM Cloud](https://cloud.ibm.com/login) or [Db2 Warehouse](https://www.ibm.com/support/knowledgecenter/en/SSCJDQ/com.ibm.swg.im.dashdb.kc.doc/welcome.html)\n",
    "* Db2 driver: learn more on [IBM Knowledge Center](https://www.ibm.com/support/knowledgecenter/en/SSFMBX/com.ibm.swg.im.dashdb.doc/connecting/connect_applications_by_type.html) and see [IBM Support](https://www.ibm.com/support/pages/db2-jdbc-driver-versions-and-downloads)\n",
    "* Having installed the [ibmdbpy](https://pypi.org/project/ibmdbpy/) python library with pip: \n",
    "> pip install ibmdbpy \n",
    "* Optional dependency for JDBC is the [jaydebeapi](https://pypi.org/project/JayDeBeApi/) library. Run the following command to install ibmdbpy, as well as the dependencies for the JDBC feature:\n",
    "> pip install ibmdbpy[jdbc]\n",
    "* The [museums.csv](https://www.kaggle.com/imls/museum-directory/data) dataset.\n",
    "\n",
    "Note: the museums dataset we use in this notebook has been published under the licence CC0 1.0 Universal (CC0 1.0) /\n",
    "Public Domain Dedication (see [source](https://www.kaggle.com/imls/museum-directory/data)).\n",
    "\n",
    "\n",
    "__Contents__\n",
    "\n",
    "__1. Get started__\n",
    "* Imports\n",
    "* Establish JDBC connection\n",
    "* Load the data: Museums and Tourists datasets\n",
    "\n",
    "__2. Point of interest recommendation__\n",
    "\n",
    "* step 1: filter on category\n",
    "* step 2: buffer\n",
    "* visualization"
   ]
  },
  {
   "cell_type": "markdown",
   "metadata": {},
   "source": [
    "## 1. Get started\n",
    "\n",
    "As usual, we make the necessary imports and establish a connection to Db2 Warehouse. Then we load the data using ibmdbpy."
   ]
  },
  {
   "cell_type": "markdown",
   "metadata": {},
   "source": [
    "__Imports__\n",
    "\n",
    "Jaydebeapi is used in order to establish a JDBC connection. We load the necessary classes of ibmdbpy. Pandas, numpy, seaborn and matplotlib are used for data visualization."
   ]
  },
  {
   "cell_type": "code",
   "execution_count": 1,
   "metadata": {},
   "outputs": [],
   "source": [
    "# connection to Db2, ibmdbpy classes\n",
    "from ibmdbpy import IdaDataBase, IdaDataFrame, IdaGeoDataFrame\n",
    "\n",
    "# for visualization and data transformation\n",
    "import pandas\n",
    "import geopandas\n",
    "import numpy as np\n",
    "from shapely.geometry import Point\n",
    "import seaborn as sns\n",
    "import matplotlib.pyplot as plt"
   ]
  },
  {
   "cell_type": "markdown",
   "metadata": {},
   "source": [
    "__Establish JDBC connection__\n",
    "\n",
    "The JDBC connection is based on a Java Virtual Machine, so it is available on every machine that can run Java. In ibmdbpy, users can choose to use JDBC to connect to a remote Db2 instance. \n",
    "\n",
    "You have to enter your own credentials in the following cell."
   ]
  },
  {
   "cell_type": "code",
   "execution_count": 2,
   "metadata": {},
   "outputs": [],
   "source": [
    "#Enter the values for you database connection\n",
    "dsn_database = \"___\" # e.g. \"BLUDB\"\n",
    "dsn_hostname = \"___\" # e.g.: \"abc.url.example\"\n",
    "dsn_port = \"___\"    # e.g. \"50000\"\n",
    "dsn_uid = \"___\"     # e.g. \"db2_1234\"\n",
    "dsn_pwd = \"___\"     # e.g. \"zorglub\""
   ]
  },
  {
   "cell_type": "code",
   "execution_count": 3,
   "metadata": {},
   "outputs": [],
   "source": [
    "#Establish connection\n",
    "connection_string='jdbc:db2://'+dsn_hostname+':'+dsn_port+'/'+dsn_database+':user='+dsn_uid+';password='+dsn_pwd+\";\" \n",
    "idadb=IdaDataBase(dsn=connection_string)"
   ]
  },
  {
   "cell_type": "code",
   "execution_count": 4,
   "metadata": {},
   "outputs": [],
   "source": [
    "# Define your verbosity settings\n",
    "from ibmdbpy.utils import set_verbose\n",
    "set_verbose(False)"
   ]
  },
  {
   "cell_type": "markdown",
   "metadata": {},
   "source": [
    "The connection is now established! If you leave this notebook open for a while, it might get closed even if your Kernel does not die. No problem! Your variables are not lost, it is only the connection that has been interrupted. Just run the following to reconnect:\n",
    "\n",
    "> idadb.reconnect()\n",
    "\n",
    "In the end if this notebook, you will close the connection by running:\n",
    "\n",
    "> idadb.close()\n",
    "\n",
    "By default the environment variable `AUTOCOMMIT` is then set to True, which means that every SQL statement which is submitted through the connection is executed within its own transaction and then committed implicitly. When you close the connection to Db2, if the environment variable `AUTOCOMMIT` is set to False, then all changes after the last explicit commit are discarded. "
   ]
  },
  {
   "cell_type": "markdown",
   "metadata": {},
   "source": [
    "__Load the data: Museums and Tourists datasets__\n",
    "\n",
    "Here we directly load the data we have saved to Db2 at the end of the previous notebook. We also create another table containing user information."
   ]
  },
  {
   "cell_type": "markdown",
   "metadata": {},
   "source": [
    "* GEO_MUSEUMS table\n",
    "\n",
    "Note that we specify the geometry column and the index column. "
   ]
  },
  {
   "cell_type": "code",
   "execution_count": 5,
   "metadata": {},
   "outputs": [
    {
     "name": "stderr",
     "output_type": "stream",
     "text": [
      "/Users/eva.feillet/.local/lib/python3.7/site-packages/jaydebeapi/__init__.py:250: UserWarning: No type mapping for JDBC type 'STRUCT' (constant value 2002). Using None as a default type_code.\n",
      "  \"Using None as a default type_code.\" % (type_name, jdbc_type_const))\n"
     ]
    },
    {
     "data": {
      "text/html": [
       "<div>\n",
       "<style scoped>\n",
       "    .dataframe tbody tr th:only-of-type {\n",
       "        vertical-align: middle;\n",
       "    }\n",
       "\n",
       "    .dataframe tbody tr th {\n",
       "        vertical-align: top;\n",
       "    }\n",
       "\n",
       "    .dataframe thead th {\n",
       "        text-align: right;\n",
       "    }\n",
       "</style>\n",
       "<table border=\"1\" class=\"dataframe\">\n",
       "  <thead>\n",
       "    <tr style=\"text-align: right;\">\n",
       "      <th></th>\n",
       "      <th>ID</th>\n",
       "      <th>GEOM</th>\n",
       "      <th>MUSEUMTYPE</th>\n",
       "      <th>MUSEUMNAME</th>\n",
       "    </tr>\n",
       "  </thead>\n",
       "  <tbody>\n",
       "    <tr>\n",
       "      <th>0</th>\n",
       "      <td>8400100001</td>\n",
       "      <td>POINT (-87.505100 33.295310)</td>\n",
       "      <td>GENERAL MUSEUM</td>\n",
       "      <td>WESTERVELT-WARNER MUSEUM OF AMERICAN ART</td>\n",
       "    </tr>\n",
       "    <tr>\n",
       "      <th>1</th>\n",
       "      <td>8400100002</td>\n",
       "      <td>POINT (-85.719780 31.349360)</td>\n",
       "      <td>GENERAL MUSEUM</td>\n",
       "      <td>U. S. ARMY AVIATION MUSEUM</td>\n",
       "    </tr>\n",
       "    <tr>\n",
       "      <th>2</th>\n",
       "      <td>8400100004</td>\n",
       "      <td>POINT (-86.628410 34.713800)</td>\n",
       "      <td>GENERAL MUSEUM</td>\n",
       "      <td>U.S. SPACE &amp; ROCKET CENTER</td>\n",
       "    </tr>\n",
       "    <tr>\n",
       "      <th>3</th>\n",
       "      <td>8400100005</td>\n",
       "      <td>POINT (-85.955410 32.943940)</td>\n",
       "      <td>GENERAL MUSEUM</td>\n",
       "      <td>WELLBORN MUSCLECAR MUSEUM</td>\n",
       "    </tr>\n",
       "    <tr>\n",
       "      <th>4</th>\n",
       "      <td>8400100007</td>\n",
       "      <td>POINT (-88.044830 30.690950)</td>\n",
       "      <td>GENERAL MUSEUM</td>\n",
       "      <td>USS ALABAMA BATTLESHIP</td>\n",
       "    </tr>\n",
       "  </tbody>\n",
       "</table>\n",
       "</div>"
      ],
      "text/plain": [
       "           ID                          GEOM      MUSEUMTYPE  \\\n",
       "0  8400100001  POINT (-87.505100 33.295310)  GENERAL MUSEUM   \n",
       "1  8400100002  POINT (-85.719780 31.349360)  GENERAL MUSEUM   \n",
       "2  8400100004  POINT (-86.628410 34.713800)  GENERAL MUSEUM   \n",
       "3  8400100005  POINT (-85.955410 32.943940)  GENERAL MUSEUM   \n",
       "4  8400100007  POINT (-88.044830 30.690950)  GENERAL MUSEUM   \n",
       "\n",
       "                                 MUSEUMNAME  \n",
       "0  WESTERVELT-WARNER MUSEUM OF AMERICAN ART  \n",
       "1                U. S. ARMY AVIATION MUSEUM  \n",
       "2                U.S. SPACE & ROCKET CENTER  \n",
       "3                 WELLBORN MUSCLECAR MUSEUM  \n",
       "4                    USS ALABAMA BATTLESHIP  "
      ]
     },
     "execution_count": 5,
     "metadata": {},
     "output_type": "execute_result"
    }
   ],
   "source": [
    "# Download the dataset from a Db2 instance\n",
    "geo_museums = IdaGeoDataFrame(idadb, 'GEO_MUSEUMS', geometry = 'GEOM', indexer = 'ID')\n",
    "geo_museums.head()"
   ]
  },
  {
   "cell_type": "markdown",
   "metadata": {},
   "source": [
    "* GEO_TOURISTS table\n",
    "\n",
    "We show you how to create a sample of user data. We just insert a few user profiles in a new table for this scenario."
   ]
  },
  {
   "cell_type": "code",
   "execution_count": 6,
   "metadata": {},
   "outputs": [
    {
     "name": "stdout",
     "output_type": "stream",
     "text": [
      "Table GEO_TOURISTS already exists. Do you want to erase it and create a new one?\n",
      "y/n y\n",
      "Table GEO_TOURISTS created\n",
      "Values successfully inserted\n"
     ]
    }
   ],
   "source": [
    "def create_tourists():        \n",
    "    #idadb.ida_query('SET CURRENT FUNCTION PATH = CURRENT FUNCTION PATH, db2gse') \n",
    "    idadb.ida_query('CREATE TABLE GEO_TOURISTS(user_id INT GENERATED BY DEFAULT AS IDENTITY NOT NULL, user_loc db2gse.ST_POINT NOT NULL, museum_type VARCHAR(50), max_dist INT, PRIMARY KEY (user_id)) ORGANIZE BY ROW')\n",
    "    print('Table GEO_TOURISTS created')\n",
    "\n",
    "    values = [\"(db2gse.ST_Point (-74.1824830955078, 40.7705705469009, 1), 'GENERAL MUSEUM', 40)\",\n",
    "              \"(db2gse.ST_Point(-95.1824830955078, 38.9547390131, 1), 'HISTORIC PRESERVATION', 20)\",\n",
    "              \"(db2gse.ST_Point(-120.40035536736, 34.92375843752231, 1), 'SCIENCE & TECHNOLOGY MUSEUM OR PLANETARIUM', 50)\",\n",
    "              \"(db2gse.ST_Point(-111.27845602187497, 40.59386155517787, 1), 'GENERAL MUSEUM', 10)\",\n",
    "              \"(db2gse.ST_Point(-112.00355367812489, 33.572290986838915, 1), 'ZOO, AQUARIUM, OR WILDLIFE CONSERVATION', 40)\"]\n",
    "    for v in values:\n",
    "        idadb.ida_query('INSERT INTO GEO_TOURISTS(user_loc, museum_type, max_dist) VALUES'+v)\n",
    "    print('Values successfully inserted')\n",
    "    \n",
    "if idadb.exists_table(\"GEO_TOURISTS\"):\n",
    "    print(\"Table GEO_TOURISTS already exists. Do you want to erase it and create a new one?\")\n",
    "    ans = input(\"y/n \")\n",
    "    if ans == 'n':\n",
    "        print('Table GEO_TOURISTS will remain as it currently is.')    \n",
    "    if ans == 'y':\n",
    "        idadb.ida_query('DROP TABLE GEO_TOURISTS')\n",
    "        create_tourists()\n",
    "else:\n",
    "    create_tourists()\n"
   ]
  },
  {
   "cell_type": "code",
   "execution_count": 7,
   "metadata": {},
   "outputs": [
    {
     "data": {
      "text/html": [
       "<div>\n",
       "<style scoped>\n",
       "    .dataframe tbody tr th:only-of-type {\n",
       "        vertical-align: middle;\n",
       "    }\n",
       "\n",
       "    .dataframe tbody tr th {\n",
       "        vertical-align: top;\n",
       "    }\n",
       "\n",
       "    .dataframe thead th {\n",
       "        text-align: right;\n",
       "    }\n",
       "</style>\n",
       "<table border=\"1\" class=\"dataframe\">\n",
       "  <thead>\n",
       "    <tr style=\"text-align: right;\">\n",
       "      <th></th>\n",
       "      <th>USER_ID</th>\n",
       "      <th>USER_LOC</th>\n",
       "      <th>MUSEUM_TYPE</th>\n",
       "      <th>MAX_DIST</th>\n",
       "    </tr>\n",
       "  </thead>\n",
       "  <tbody>\n",
       "    <tr>\n",
       "      <th>0</th>\n",
       "      <td>1</td>\n",
       "      <td>POINT (-74.182483 40.770571)</td>\n",
       "      <td>GENERAL MUSEUM</td>\n",
       "      <td>40</td>\n",
       "    </tr>\n",
       "    <tr>\n",
       "      <th>1</th>\n",
       "      <td>2</td>\n",
       "      <td>POINT (-95.182483 38.954739)</td>\n",
       "      <td>HISTORIC PRESERVATION</td>\n",
       "      <td>20</td>\n",
       "    </tr>\n",
       "    <tr>\n",
       "      <th>2</th>\n",
       "      <td>3</td>\n",
       "      <td>POINT (-120.400355 34.923758)</td>\n",
       "      <td>SCIENCE &amp; TECHNOLOGY MUSEUM OR PLANETARIUM</td>\n",
       "      <td>50</td>\n",
       "    </tr>\n",
       "    <tr>\n",
       "      <th>3</th>\n",
       "      <td>4</td>\n",
       "      <td>POINT (-111.278456 40.593862)</td>\n",
       "      <td>GENERAL MUSEUM</td>\n",
       "      <td>10</td>\n",
       "    </tr>\n",
       "    <tr>\n",
       "      <th>4</th>\n",
       "      <td>5</td>\n",
       "      <td>POINT (-112.003554 33.572291)</td>\n",
       "      <td>ZOO, AQUARIUM, OR WILDLIFE CONSERVATION</td>\n",
       "      <td>40</td>\n",
       "    </tr>\n",
       "  </tbody>\n",
       "</table>\n",
       "</div>"
      ],
      "text/plain": [
       "   USER_ID                       USER_LOC  \\\n",
       "0        1   POINT (-74.182483 40.770571)   \n",
       "1        2   POINT (-95.182483 38.954739)   \n",
       "2        3  POINT (-120.400355 34.923758)   \n",
       "3        4  POINT (-111.278456 40.593862)   \n",
       "4        5  POINT (-112.003554 33.572291)   \n",
       "\n",
       "                                  MUSEUM_TYPE  MAX_DIST  \n",
       "0                              GENERAL MUSEUM        40  \n",
       "1                       HISTORIC PRESERVATION        20  \n",
       "2  SCIENCE & TECHNOLOGY MUSEUM OR PLANETARIUM        50  \n",
       "3                              GENERAL MUSEUM        10  \n",
       "4     ZOO, AQUARIUM, OR WILDLIFE CONSERVATION        40  "
      ]
     },
     "execution_count": 7,
     "metadata": {},
     "output_type": "execute_result"
    }
   ],
   "source": [
    "# define the corresponding IdaGeoDataFrame\n",
    "geo_tourists = IdaGeoDataFrame(idadb, 'GEO_TOURISTS', indexer = 'USER_ID', geometry = 'USER_LOC')\n",
    "geo_tourists.head()"
   ]
  },
  {
   "cell_type": "markdown",
   "metadata": {},
   "source": [
    "Great, we are all set! Let's make some recommendations with ibmdbpy!"
   ]
  },
  {
   "cell_type": "markdown",
   "metadata": {},
   "source": [
    "## 2. Point of Interest Recommendation\n",
    "\n",
    "For this demo we simply use the museum type and the maximum distance from user location as criteria."
   ]
  },
  {
   "cell_type": "markdown",
   "metadata": {},
   "source": [
    "__Step 1: select user and filter rows on museum type__\n",
    "\n",
    "As a reminder we display the different museum types from our dataset."
   ]
  },
  {
   "cell_type": "markdown",
   "metadata": {},
   "source": [
    "In the following cell we define an IdaGeoDataFrame obtained by filtering geo_museums on MuseumType. We take user number 1 as example."
   ]
  },
  {
   "cell_type": "code",
   "execution_count": 8,
   "metadata": {},
   "outputs": [
    {
     "name": "stdout",
     "output_type": "stream",
     "text": [
      "User with ID 1 would like to go to a point of interest of type GENERAL MUSEUM.\n"
     ]
    }
   ],
   "source": [
    "# Here with an example: userID = 1\n",
    "\n",
    "userID = 1\n",
    "my_user = geo_tourists[geo_tourists['USER_ID']==userID]\n",
    "my_type = my_user['MUSEUM_TYPE'].head()[0]\n",
    "\n",
    "print('User with ID %s would like to go to a point of interest of type %s.' %(userID, my_type))"
   ]
  },
  {
   "cell_type": "code",
   "execution_count": 9,
   "metadata": {},
   "outputs": [],
   "source": [
    "# Filter museums according to this prefered type\n",
    "my_museums = geo_museums[geo_museums['MUSEUMTYPE']==my_type]"
   ]
  },
  {
   "cell_type": "markdown",
   "metadata": {},
   "source": [
    "__Step 2: create a buffer around user locations__\n",
    "    \n",
    "Here we apply the `buffer` method, relying on the function `db2gse.ST_Buffer` from Db2 to add a new column to our dataset view. This new column of type `ST_Geometry` contains polygons corresponding to an area centered on the current location of a user with a MAX_DIST radius (maximum distance allowed by user). "
   ]
  },
  {
   "cell_type": "code",
   "execution_count": 10,
   "metadata": {},
   "outputs": [
    {
     "name": "stdout",
     "output_type": "stream",
     "text": [
      "User with ID 1 has specifed a maximum distance of 40 km.\n"
     ]
    }
   ],
   "source": [
    "# Here we focus on just one particular user:\n",
    "my_max_dist = my_user['MAX_DIST'].head()[0]\n",
    "\n",
    "print('User with ID %s has specifed a maximum distance of %s km.' %(userID,my_max_dist))"
   ]
  },
  {
   "cell_type": "code",
   "execution_count": 11,
   "metadata": {},
   "outputs": [],
   "source": [
    "# Select only the column with userID\n",
    "\n",
    "my_user['BUFFER'] = my_user.buffer(my_max_dist,'KILOMETER')"
   ]
  },
  {
   "cell_type": "code",
   "execution_count": 12,
   "metadata": {},
   "outputs": [
    {
     "data": {
      "text/html": [
       "<div>\n",
       "<style scoped>\n",
       "    .dataframe tbody tr th:only-of-type {\n",
       "        vertical-align: middle;\n",
       "    }\n",
       "\n",
       "    .dataframe tbody tr th {\n",
       "        vertical-align: top;\n",
       "    }\n",
       "\n",
       "    .dataframe thead th {\n",
       "        text-align: right;\n",
       "    }\n",
       "</style>\n",
       "<table border=\"1\" class=\"dataframe\">\n",
       "  <thead>\n",
       "    <tr style=\"text-align: right;\">\n",
       "      <th></th>\n",
       "      <th>TYPENAME</th>\n",
       "    </tr>\n",
       "  </thead>\n",
       "  <tbody>\n",
       "    <tr>\n",
       "      <th>USER_ID</th>\n",
       "      <td>INTEGER</td>\n",
       "    </tr>\n",
       "    <tr>\n",
       "      <th>USER_LOC</th>\n",
       "      <td>ST_POINT</td>\n",
       "    </tr>\n",
       "    <tr>\n",
       "      <th>MUSEUM_TYPE</th>\n",
       "      <td>VARCHAR</td>\n",
       "    </tr>\n",
       "    <tr>\n",
       "      <th>MAX_DIST</th>\n",
       "      <td>INTEGER</td>\n",
       "    </tr>\n",
       "    <tr>\n",
       "      <th>BUFFER</th>\n",
       "      <td>ST_GEOMETRY</td>\n",
       "    </tr>\n",
       "  </tbody>\n",
       "</table>\n",
       "</div>"
      ],
      "text/plain": [
       "                TYPENAME\n",
       "USER_ID          INTEGER\n",
       "USER_LOC        ST_POINT\n",
       "MUSEUM_TYPE      VARCHAR\n",
       "MAX_DIST         INTEGER\n",
       "BUFFER       ST_GEOMETRY"
      ]
     },
     "execution_count": 12,
     "metadata": {},
     "output_type": "execute_result"
    }
   ],
   "source": [
    "# Remember that we have several columns eligible to be set as geometry now:\n",
    "# USER_LOC and BUFFER\n",
    "my_user.dtypes"
   ]
  },
  {
   "cell_type": "code",
   "execution_count": 13,
   "metadata": {},
   "outputs": [
    {
     "name": "stdout",
     "output_type": "stream",
     "text": [
      "Current geometry attribute for user table:\n",
      "['USER_LOC']\n",
      "New geometry attribute for user table:\n",
      "['BUFFER']\n",
      "Current geometry attribute for museums table:\n",
      "['GEOM']\n"
     ]
    }
   ],
   "source": [
    "# Set 'BUFFER' as the new geometry column for the next step\n",
    "print(\"Current geometry attribute for user table:\")\n",
    "print(my_user.geometry.columns)\n",
    "print(\"New geometry attribute for user table:\")\n",
    "my_user.set_geometry('BUFFER')\n",
    "print(my_user.geometry.columns)\n",
    "\n",
    "# Sanity check\n",
    "print(\"Current geometry attribute for museums table:\")\n",
    "print(my_museums.geometry.columns)"
   ]
  },
  {
   "cell_type": "markdown",
   "metadata": {},
   "source": [
    "__Step 3: Find museums in the target area__"
   ]
  },
  {
   "cell_type": "markdown",
   "metadata": {},
   "source": [
    "* Method 1: use `contains` to detect which museums are in the buffer "
   ]
  },
  {
   "cell_type": "code",
   "execution_count": 14,
   "metadata": {},
   "outputs": [
    {
     "name": "stdout",
     "output_type": "stream",
     "text": [
      "column1_for_db2gse: DB2GSE.ST_BUFFER(USER_LOC,40,'KILOMETER')\n",
      "column2_for_db2gse: GEOM\n",
      "A function pattern was detected in column1_for_db2gse. Please provide the alias of the first geometry column.\n",
      "ALIAS_1: BUFFER\n"
     ]
    },
    {
     "data": {
      "text/html": [
       "<div>\n",
       "<style scoped>\n",
       "    .dataframe tbody tr th:only-of-type {\n",
       "        vertical-align: middle;\n",
       "    }\n",
       "\n",
       "    .dataframe tbody tr th {\n",
       "        vertical-align: top;\n",
       "    }\n",
       "\n",
       "    .dataframe thead th {\n",
       "        text-align: right;\n",
       "    }\n",
       "</style>\n",
       "<table border=\"1\" class=\"dataframe\">\n",
       "  <thead>\n",
       "    <tr style=\"text-align: right;\">\n",
       "      <th></th>\n",
       "      <th>INDEXERIDA1</th>\n",
       "      <th>INDEXERIDA2</th>\n",
       "      <th>RESULT</th>\n",
       "    </tr>\n",
       "  </thead>\n",
       "  <tbody>\n",
       "    <tr>\n",
       "      <th>0</th>\n",
       "      <td>1</td>\n",
       "      <td>8400600178</td>\n",
       "      <td>1</td>\n",
       "    </tr>\n",
       "    <tr>\n",
       "      <th>1</th>\n",
       "      <td>1</td>\n",
       "      <td>8400600520</td>\n",
       "      <td>1</td>\n",
       "    </tr>\n",
       "    <tr>\n",
       "      <th>2</th>\n",
       "      <td>1</td>\n",
       "      <td>8409400014</td>\n",
       "      <td>1</td>\n",
       "    </tr>\n",
       "    <tr>\n",
       "      <th>3</th>\n",
       "      <td>1</td>\n",
       "      <td>8403400592</td>\n",
       "      <td>1</td>\n",
       "    </tr>\n",
       "    <tr>\n",
       "      <th>4</th>\n",
       "      <td>1</td>\n",
       "      <td>8403400512</td>\n",
       "      <td>1</td>\n",
       "    </tr>\n",
       "  </tbody>\n",
       "</table>\n",
       "</div>"
      ],
      "text/plain": [
       "   INDEXERIDA1  INDEXERIDA2  RESULT\n",
       "0            1   8400600178       1\n",
       "1            1   8400600520       1\n",
       "2            1   8409400014       1\n",
       "3            1   8403400592       1\n",
       "4            1   8403400512       1"
      ]
     },
     "execution_count": 14,
     "metadata": {},
     "output_type": "execute_result"
    }
   ],
   "source": [
    "# The following line of code computes for each museum a boolean value:\n",
    "# Whether geometry from my_museums contains geometry from my_user.\n",
    "result = my_user.contains(my_museums)\n",
    "\n",
    "# Filter out positive results:\n",
    "# Obtain the IDs of eligible point of interest only\n",
    "positive_results = result[result['RESULT']==1]\n",
    "positive_results.head(5)"
   ]
  },
  {
   "cell_type": "code",
   "execution_count": 15,
   "metadata": {},
   "outputs": [
    {
     "name": "stderr",
     "output_type": "stream",
     "text": [
      "/Users/eva.feillet/anaconda3/lib/python3.7/site-packages/ibmdbpy/frame.py:1899: UserWarning: Table RESULTS_1 already exists.\n",
      "  warnings.warn(message, UserWarning)\n"
     ]
    },
    {
     "name": "stdout",
     "output_type": "stream",
     "text": [
      "Are you sure that you want to overwrite RESULTS_1 [y/n] y\n"
     ]
    }
   ],
   "source": [
    "# Save the positive results only\n",
    "positive_results.save_as(\"RESULTS_1\", clear_existing = True)"
   ]
  },
  {
   "cell_type": "code",
   "execution_count": 16,
   "metadata": {},
   "outputs": [
    {
     "data": {
      "text/html": [
       "<div>\n",
       "<style scoped>\n",
       "    .dataframe tbody tr th:only-of-type {\n",
       "        vertical-align: middle;\n",
       "    }\n",
       "\n",
       "    .dataframe tbody tr th {\n",
       "        vertical-align: top;\n",
       "    }\n",
       "\n",
       "    .dataframe thead th {\n",
       "        text-align: right;\n",
       "    }\n",
       "</style>\n",
       "<table border=\"1\" class=\"dataframe\">\n",
       "  <thead>\n",
       "    <tr style=\"text-align: right;\">\n",
       "      <th></th>\n",
       "      <th>ID</th>\n",
       "      <th>MUSEUMTYPE</th>\n",
       "      <th>MUSEUMNAME</th>\n",
       "    </tr>\n",
       "  </thead>\n",
       "  <tbody>\n",
       "    <tr>\n",
       "      <th>0</th>\n",
       "      <td>8409400014</td>\n",
       "      <td>GENERAL MUSEUM</td>\n",
       "      <td>78TH DIVISION HISTORICAL HOLDING</td>\n",
       "    </tr>\n",
       "    <tr>\n",
       "      <th>1</th>\n",
       "      <td>8403601706</td>\n",
       "      <td>GENERAL MUSEUM</td>\n",
       "      <td>ACCINOSCO</td>\n",
       "    </tr>\n",
       "    <tr>\n",
       "      <th>2</th>\n",
       "      <td>8403600439</td>\n",
       "      <td>GENERAL MUSEUM</td>\n",
       "      <td>ADEPT NEW AMERICAN FOLK CENTER</td>\n",
       "    </tr>\n",
       "    <tr>\n",
       "      <th>3</th>\n",
       "      <td>8403600435</td>\n",
       "      <td>GENERAL MUSEUM</td>\n",
       "      <td>AFRICAN-AMERICAN WAX MUSEUM OF HARLEM</td>\n",
       "    </tr>\n",
       "    <tr>\n",
       "      <th>4</th>\n",
       "      <td>8403600392</td>\n",
       "      <td>GENERAL MUSEUM</td>\n",
       "      <td>ALTERNATIVE MUSEUM</td>\n",
       "    </tr>\n",
       "    <tr>\n",
       "      <th>5</th>\n",
       "      <td>8403601961</td>\n",
       "      <td>GENERAL MUSEUM</td>\n",
       "      <td>ALUMNI SOCIETY OF THE SCHOOL OF VISUAL ARTS</td>\n",
       "    </tr>\n",
       "  </tbody>\n",
       "</table>\n",
       "</div>"
      ],
      "text/plain": [
       "           ID      MUSEUMTYPE                                   MUSEUMNAME\n",
       "0  8409400014  GENERAL MUSEUM             78TH DIVISION HISTORICAL HOLDING\n",
       "1  8403601706  GENERAL MUSEUM                                    ACCINOSCO\n",
       "2  8403600439  GENERAL MUSEUM               ADEPT NEW AMERICAN FOLK CENTER\n",
       "3  8403600435  GENERAL MUSEUM        AFRICAN-AMERICAN WAX MUSEUM OF HARLEM\n",
       "4  8403600392  GENERAL MUSEUM                           ALTERNATIVE MUSEUM\n",
       "5  8403601961  GENERAL MUSEUM  ALUMNI SOCIETY OF THE SCHOOL OF VISUAL ARTS"
      ]
     },
     "execution_count": 16,
     "metadata": {},
     "output_type": "execute_result"
    }
   ],
   "source": [
    "# Display the results: museum names\n",
    "idadb.ida_query('SELECT IDA1.\"ID\", IDA1.\"MUSEUMTYPE\", IDA1.\"MUSEUMNAME\" FROM GEO_MUSEUMS AS IDA1, RESULTS_1 AS IDA2 WHERE IDA1.\"ID\" = IDA2.INDEXERIDA2 ORDER BY IDA1.MUSEUMNAME FETCH FIRST 6 ROWS ONLY')"
   ]
  },
  {
   "cell_type": "markdown",
   "metadata": {},
   "source": [
    "You can now refine your choice using other criteria!"
   ]
  },
  {
   "cell_type": "markdown",
   "metadata": {},
   "source": [
    "* Method 2: compute distance to user and filter on distance\n",
    "\n",
    "You can order results by increasing distance to the user for example."
   ]
  },
  {
   "cell_type": "code",
   "execution_count": 17,
   "metadata": {},
   "outputs": [
    {
     "name": "stdout",
     "output_type": "stream",
     "text": [
      "column1_for_db2gse: GEOM\n",
      "column2_for_db2gse: USER_LOC\n"
     ]
    },
    {
     "data": {
      "text/html": [
       "<div>\n",
       "<style scoped>\n",
       "    .dataframe tbody tr th:only-of-type {\n",
       "        vertical-align: middle;\n",
       "    }\n",
       "\n",
       "    .dataframe tbody tr th {\n",
       "        vertical-align: top;\n",
       "    }\n",
       "\n",
       "    .dataframe thead th {\n",
       "        text-align: right;\n",
       "    }\n",
       "</style>\n",
       "<table border=\"1\" class=\"dataframe\">\n",
       "  <thead>\n",
       "    <tr style=\"text-align: right;\">\n",
       "      <th></th>\n",
       "      <th>INDEXERIDA1</th>\n",
       "      <th>INDEXERIDA2</th>\n",
       "      <th>RESULT</th>\n",
       "    </tr>\n",
       "  </thead>\n",
       "  <tbody>\n",
       "    <tr>\n",
       "      <th>0</th>\n",
       "      <td>8403600571</td>\n",
       "      <td>1</td>\n",
       "      <td>39.960883</td>\n",
       "    </tr>\n",
       "    <tr>\n",
       "      <th>1</th>\n",
       "      <td>8403600907</td>\n",
       "      <td>1</td>\n",
       "      <td>39.847335</td>\n",
       "    </tr>\n",
       "    <tr>\n",
       "      <th>2</th>\n",
       "      <td>8403600554</td>\n",
       "      <td>1</td>\n",
       "      <td>39.346915</td>\n",
       "    </tr>\n",
       "    <tr>\n",
       "      <th>3</th>\n",
       "      <td>8403600069</td>\n",
       "      <td>1</td>\n",
       "      <td>39.045445</td>\n",
       "    </tr>\n",
       "    <tr>\n",
       "      <th>4</th>\n",
       "      <td>8403400049</td>\n",
       "      <td>1</td>\n",
       "      <td>38.540799</td>\n",
       "    </tr>\n",
       "  </tbody>\n",
       "</table>\n",
       "</div>"
      ],
      "text/plain": [
       "   INDEXERIDA1  INDEXERIDA2     RESULT\n",
       "0   8403600571            1  39.960883\n",
       "1   8403600907            1  39.847335\n",
       "2   8403600554            1  39.346915\n",
       "3   8403600069            1  39.045445\n",
       "4   8403400049            1  38.540799"
      ]
     },
     "execution_count": 17,
     "metadata": {},
     "output_type": "execute_result"
    }
   ],
   "source": [
    "# Compute distance to user location\n",
    "my_user.set_geometry('USER_LOC')\n",
    "my_distances = my_museums.distance(my_user, 'KILOMETRE')\n",
    "\n",
    "# Filter\n",
    "my_results = my_distances[my_distances['RESULT'] <= my_max_dist].sort('RESULT', ascending = False)\n",
    "\n",
    "my_results.head()"
   ]
  },
  {
   "cell_type": "code",
   "execution_count": 18,
   "metadata": {},
   "outputs": [
    {
     "name": "stderr",
     "output_type": "stream",
     "text": [
      "/Users/eva.feillet/anaconda3/lib/python3.7/site-packages/ibmdbpy/frame.py:1899: UserWarning: Table RESULTS_2 already exists.\n",
      "  warnings.warn(message, UserWarning)\n"
     ]
    },
    {
     "name": "stdout",
     "output_type": "stream",
     "text": [
      "Are you sure that you want to overwrite RESULTS_2 [y/n] y\n"
     ]
    },
    {
     "data": {
      "text/html": [
       "<div>\n",
       "<style scoped>\n",
       "    .dataframe tbody tr th:only-of-type {\n",
       "        vertical-align: middle;\n",
       "    }\n",
       "\n",
       "    .dataframe tbody tr th {\n",
       "        vertical-align: top;\n",
       "    }\n",
       "\n",
       "    .dataframe thead th {\n",
       "        text-align: right;\n",
       "    }\n",
       "</style>\n",
       "<table border=\"1\" class=\"dataframe\">\n",
       "  <thead>\n",
       "    <tr style=\"text-align: right;\">\n",
       "      <th></th>\n",
       "      <th>ID</th>\n",
       "      <th>MUSEUMTYPE</th>\n",
       "      <th>MUSEUMNAME</th>\n",
       "    </tr>\n",
       "  </thead>\n",
       "  <tbody>\n",
       "    <tr>\n",
       "      <th>0</th>\n",
       "      <td>8409400014</td>\n",
       "      <td>GENERAL MUSEUM</td>\n",
       "      <td>78TH DIVISION HISTORICAL HOLDING</td>\n",
       "    </tr>\n",
       "    <tr>\n",
       "      <th>1</th>\n",
       "      <td>8403601706</td>\n",
       "      <td>GENERAL MUSEUM</td>\n",
       "      <td>ACCINOSCO</td>\n",
       "    </tr>\n",
       "    <tr>\n",
       "      <th>2</th>\n",
       "      <td>8403600439</td>\n",
       "      <td>GENERAL MUSEUM</td>\n",
       "      <td>ADEPT NEW AMERICAN FOLK CENTER</td>\n",
       "    </tr>\n",
       "    <tr>\n",
       "      <th>3</th>\n",
       "      <td>8403600435</td>\n",
       "      <td>GENERAL MUSEUM</td>\n",
       "      <td>AFRICAN-AMERICAN WAX MUSEUM OF HARLEM</td>\n",
       "    </tr>\n",
       "    <tr>\n",
       "      <th>4</th>\n",
       "      <td>8403600392</td>\n",
       "      <td>GENERAL MUSEUM</td>\n",
       "      <td>ALTERNATIVE MUSEUM</td>\n",
       "    </tr>\n",
       "    <tr>\n",
       "      <th>5</th>\n",
       "      <td>8403601961</td>\n",
       "      <td>GENERAL MUSEUM</td>\n",
       "      <td>ALUMNI SOCIETY OF THE SCHOOL OF VISUAL ARTS</td>\n",
       "    </tr>\n",
       "  </tbody>\n",
       "</table>\n",
       "</div>"
      ],
      "text/plain": [
       "           ID      MUSEUMTYPE                                   MUSEUMNAME\n",
       "0  8409400014  GENERAL MUSEUM             78TH DIVISION HISTORICAL HOLDING\n",
       "1  8403601706  GENERAL MUSEUM                                    ACCINOSCO\n",
       "2  8403600439  GENERAL MUSEUM               ADEPT NEW AMERICAN FOLK CENTER\n",
       "3  8403600435  GENERAL MUSEUM        AFRICAN-AMERICAN WAX MUSEUM OF HARLEM\n",
       "4  8403600392  GENERAL MUSEUM                           ALTERNATIVE MUSEUM\n",
       "5  8403601961  GENERAL MUSEUM  ALUMNI SOCIETY OF THE SCHOOL OF VISUAL ARTS"
      ]
     },
     "execution_count": 18,
     "metadata": {},
     "output_type": "execute_result"
    }
   ],
   "source": [
    "my_results.save_as('RESULTS_2', clear_existing = True)\n",
    "\n",
    "idadb.ida_query('SELECT IDA1.\"ID\", IDA1.\"MUSEUMTYPE\", IDA1.\"MUSEUMNAME\" FROM GEO_MUSEUMS AS IDA1, RESULTS_2 AS IDA2 WHERE IDA1.ID = IDA2.INDEXERIDA1 ORDER BY IDA1.MUSEUMNAME FETCH FIRST 6 ROWS ONLY')"
   ]
  },
  {
   "cell_type": "code",
   "execution_count": 19,
   "metadata": {},
   "outputs": [
    {
     "name": "stdout",
     "output_type": "stream",
     "text": [
      "263\n",
      "263\n"
     ]
    }
   ],
   "source": [
    "print(len(positive_results))\n",
    "print(len(my_results))"
   ]
  },
  {
   "cell_type": "markdown",
   "metadata": {},
   "source": [
    "__Comment__\n",
    "\n",
    "By taking a closer look at the results, you would be able to see that we obtain exactly the same recommandations. In our case, we have found 263 point of interests of type \"general museum\" within 40km of our user. Let's visualize these results on a map!"
   ]
  },
  {
   "cell_type": "markdown",
   "metadata": {},
   "source": [
    "## Visualization \n",
    "\n",
    "After you have processed the data with ibmdbpy, you can convert your data back to a DataFrame or GeoDataFrame format for visualization. Here we visualize the results for user 1."
   ]
  },
  {
   "cell_type": "code",
   "execution_count": 20,
   "metadata": {},
   "outputs": [],
   "source": [
    "# save full result data to Db2 - optional, here we do it for visualization purposes\n",
    "idadb.ida_query('drop table if exists geo_results')\n",
    "idadb.ida_query('CREATE TABLE GEO_RESULTS AS (SELECT * FROM GEO_MUSEUMS AS IDA1, RESULTS_1 AS IDA2 WHERE IDA1.\"ID\" = IDA2.INDEXERIDA2) WITH DATA ORGANIZE BY ROW')"
   ]
  },
  {
   "cell_type": "markdown",
   "metadata": {},
   "source": [
    "__Overview__"
   ]
  },
  {
   "cell_type": "code",
   "execution_count": 21,
   "metadata": {},
   "outputs": [],
   "source": [
    "results = IdaGeoDataFrame(idadb, 'GEO_RESULTS', indexer = 'ID', geometry = 'GEOM')\n",
    "\n",
    "# Data transformation for visualization\n",
    "\n",
    "# GeoDataFrame for results\n",
    "results['X'] = results.x() # Using the spatial function ST_X and ST_Y to extract the coordinates\n",
    "results['Y'] = results.y()\n",
    "results_df = results[['X', 'Y', 'MUSEUMTYPE']].as_dataframe()\n",
    "\n",
    "geometry = [Point(xy) for xy in zip(results_df['X'],results_df['Y'])]\n",
    "results_df = geopandas.GeoDataFrame(results_df, geometry = geometry)\n",
    "\n",
    "# GeoDataFrame for users\n",
    "geo_tourists.set_geometry('USER_LOC')\n",
    "geo_tourists['X'] = geo_tourists.x()\n",
    "geo_tourists['Y'] = geo_tourists.y()\n",
    "tourists_df = geo_tourists.as_dataframe()\n",
    "\n",
    "geometry = [Point(xy) for xy in zip(tourists_df['X'],tourists_df['Y'])]\n",
    "tourists_df = geopandas.GeoDataFrame(tourists_df, geometry = geometry)"
   ]
  },
  {
   "cell_type": "code",
   "execution_count": 22,
   "metadata": {},
   "outputs": [],
   "source": [
    "# load map of the USA\n",
    "import os\n",
    "os.system(\"wget -nc https://www2.census.gov/geo/tiger/GENZ2018/shp/cb_2018_us_state_5m.zip\")\n",
    "os.system(\"unzip cb_2018_us_state_5m.zip\")\n",
    "\n",
    "usa = geopandas.read_file(\"cb_2018_us_state_5m.shp\")\n",
    "\n",
    "# cut out some states in order to be able to zoom in\n",
    "for stusps in ['HI', 'VI', 'GU', 'MP', 'AS', 'PR', 'AK']: \n",
    "    usa = usa[usa['STUSPS'] != stusps]"
   ]
  },
  {
   "cell_type": "code",
   "execution_count": 23,
   "metadata": {},
   "outputs": [
    {
     "data": {
      "text/plain": [
       "Text(0.5, 1, 'User locations')"
      ]
     },
     "execution_count": 23,
     "metadata": {},
     "output_type": "execute_result"
    },
    {
     "data": {
      "image/png": "[encoded data removed]",
      "text/plain": [
       "<Figure size 1296x1152 with 1 Axes>"
      ]
     },
     "metadata": {
      "needs_background": "light"
     },
     "output_type": "display_data"
    }
   ],
   "source": [
    "fig, ax = plt.subplots(figsize = (18,16))\n",
    "usa.plot(ax=ax)\n",
    "\n",
    "x = tourists_df.X\n",
    "y = tourists_df.Y\n",
    "c = tourists_df.USER_ID\n",
    "\n",
    "scatter = ax.scatter(x, y, c=c, s = 200, marker = '*', cmap = 'spring')\n",
    "\n",
    "# produce a legend with the unique colors from the scatter\n",
    "legend1 = ax.legend(*scatter.legend_elements(), loc=\"lower left\", title=\"User IDs\")\n",
    "ax.add_artist(legend1)\n",
    "\n",
    "legend = ['users']\n",
    "plt.legend(legend, fontsize = 12)\n",
    "plt.title('User locations', fontsize = 18)"
   ]
  },
  {
   "cell_type": "code",
   "execution_count": 24,
   "metadata": {},
   "outputs": [],
   "source": [
    "# Zoom for user 1\n",
    "\n",
    "#zoom = ['NY', 'PA', 'VT', 'DE', 'RI', 'MA', 'CT', 'NJ', 'ME', 'NH', 'DC']\n",
    "zoom = ['NY', 'NJ', 'CT']\n",
    "usa_zoom = usa.set_index('STUSPS').loc[zoom]"
   ]
  },
  {
   "cell_type": "code",
   "execution_count": 25,
   "metadata": {},
   "outputs": [
    {
     "data": {
      "text/plain": [
       "Text(0.5, 1, 'Selected museums for user 1')"
      ]
     },
     "execution_count": 25,
     "metadata": {},
     "output_type": "execute_result"
    },
    {
     "data": {
      "image/png": "[encoded data removed]",
      "text/plain": [
       "<Figure size 1296x1152 with 1 Axes>"
      ]
     },
     "metadata": {
      "needs_background": "light"
     },
     "output_type": "display_data"
    }
   ],
   "source": [
    "fig, ax = plt.subplots(figsize = (18,16))\n",
    "usa_zoom.plot(ax=ax)\n",
    "results_df.plot(ax = ax, marker = '+', markersize = 100, color = 'cyan')\n",
    "\n",
    "tourists_df.set_index('USER_ID').loc[[userID]].plot(ax = ax, marker = '*', markersize = 100, color = 'magenta')\n",
    "legend = ['Points of Interest', 'user 1']\n",
    "plt.legend(legend, fontsize = 12)\n",
    "plt.title('Selected museums for user 1', fontsize = 18)"
   ]
  },
  {
   "cell_type": "markdown",
   "metadata": {},
   "source": [
    "___\n",
    "__Congratulations!__ You reached the end of this notebook. Before shutting Jupyter down, close the current connection to Db2 Warehouse."
   ]
  },
  {
   "cell_type": "code",
   "execution_count": 26,
   "metadata": {},
   "outputs": [
    {
     "name": "stdout",
     "output_type": "stream",
     "text": [
      "Connection closed.\n"
     ]
    }
   ],
   "source": [
    "idadb.close()\n",
    "# idadb.reconnect() if connection closed and you want to restore it"
   ]
  },
  {
   "cell_type": "markdown",
   "metadata": {},
   "source": [
    "## Where to go from here?\n",
    "\n",
    "This notebook was a continuation of [Preprocessing](./ibmdbpy_Museums_DataAnalysis_1-preprocessing.ipynb).\n",
    "\n",
    "If you haven't already done so, we encourage you to have a look at the **Getting started** notebooks also available on this repository. See also the **Machine learning** notebooks.\n",
    "\n",
    "* Getting started with ibmdbpy:\n",
    "        \n",
    "    [Basics](../GettingStarted/ibmdbpy_GettingStarted_1-basics.ipynb)\n",
    "\n",
    "    [GeoBasics](../GettingStarted/ibmdbpy_GettingStarted_2-geo_basics.ipynb)\n",
    "\n",
    "    [Extensive Guide](../GettingStarted/ibmdbpy_GettingStarted_3-geo_guide.ipynb)\n",
    "\n",
    "\n",
    "* Machine learning with ibmdbpy: \n",
    "        \n",
    "    [Naïve Bayes](../MachineLearning/ibmdbpy_NaiveBayes.ipynb)\n",
    "    \n",
    "    [Association Rules Mining](../MachineLearning/ibmdbpy_AssociationRulesMining.ipynb)\n",
    "\n",
    "    [KMeans](../GettingStarted/ibmdbpy_GettingStarted_1-basics.ipynb) "
   ]
  },
  {
   "cell_type": "markdown",
   "metadata": {},
   "source": [
    "____\n",
    "\n",
    "__Authors__\n",
    "\n",
    "Eva Feillet - ML intern, IBM Cloud and Cognitive Software @ IBM Lab in Böblingen, Germany"
   ]
  }
 ],
 "metadata": {
  "kernelspec": {
   "display_name": "Python 3",
   "language": "python",
   "name": "python3"
  },
  "language_info": {
   "codemirror_mode": {
    "name": "ipython",
    "version": 3
   },
   "file_extension": ".py",
   "mimetype": "text/x-python",
   "name": "python",
   "nbconvert_exporter": "python",
   "pygments_lexer": "ipython3",
   "version": "3.7.3"
  }
 },
 "nbformat": 4,
 "nbformat_minor": 2
}
